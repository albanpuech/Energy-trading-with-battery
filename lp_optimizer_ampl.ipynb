{
 "cells": [
  {
   "cell_type": "code",
   "execution_count": 1,
   "metadata": {},
   "outputs": [],
   "source": [
    "from amplpy import AMPL, modules\n"
   ]
  },
  {
   "cell_type": "code",
   "execution_count": 2,
   "metadata": {},
   "outputs": [],
   "source": [
    "from scipy.optimize import linprog\n",
    "import numpy as np\n",
    "import pandas as pd\n",
    "import plotly.express as px\n",
    "import datetime\n",
    "\n",
    "\n",
    "import plotly.graph_objects as go\n",
    "from plotly.subplots import make_subplots\n",
    "\n",
    "from datetime import timedelta\n",
    "import datetime\n",
    "import warnings\n",
    "warnings.filterwarnings(\"ignore\", category=DeprecationWarning) "
   ]
  },
  {
   "cell_type": "markdown",
   "metadata": {},
   "source": [
    "# Battery specs :"
   ]
  },
  {
   "attachments": {},
   "cell_type": "markdown",
   "metadata": {},
   "source": [
    "\n",
    "\n",
    "- SOC: state of charge in [0,1]\n",
    "- NEC: nominal energy capacity (Wh)\n",
    "- EC: energy capacity (Wh)\n",
    "\n",
    "\n"
   ]
  },
  {
   "attachments": {},
   "cell_type": "markdown",
   "metadata": {},
   "source": [
    "# Schedule optimization functions :"
   ]
  },
  {
   "cell_type": "code",
   "execution_count": 55,
   "metadata": {},
   "outputs": [],
   "source": [
    "def optimize_day_by_day(df) :\n",
    "    \"\"\"\n",
    "    Returns a copy of the initial price data frame, with three additional columns :\n",
    "    - schedule: Change in EC during the hour\n",
    "    - capacity: Capacity at the end of the hour\n",
    "    - SOC: SOC at the end of the hour \n",
    "\n",
    "    The schedule is optimized **for each day of the dataframe, considered separately.** \n",
    "    \"\"\"\n",
    "    NEC = 100000\n",
    "\n",
    "    modules.load() # load all AMPL modules\n",
    "    ampl = AMPL() # instantiate AMPL object\n",
    "    ampl.read(\"ampl.mod\")\n",
    "    ampl.get_parameter(\"NEC\").set_values([NEC])\n",
    "    \n",
    "    \n",
    "    n_hours = len(df)\n",
    "    if  n_hours % 24 != 0 :\n",
    "        raise Exception(\"The dataframe should contain only full days (24 hours)\")\n",
    "    \n",
    "    schedule = np.zeros(n_hours)\n",
    "    \n",
    "    ## first day starts with empty battery :\n",
    "    initial_capacity = 0\n",
    "    \n",
    "    ## optimization done for each day :\n",
    "    for day in range(0,n_hours//24) :\n",
    "\n",
    "        \n",
    "        price = df.price_euros_wh.iloc[day*24:(day+1)*24].to_numpy()\n",
    "        ampl.get_parameter(\"p\").set_values(price)\n",
    "        ampl.get_parameter(\"EC_init\").set_values([initial_capacity])\n",
    "\n",
    "        # Specify the solver to use (e.g., HiGHS)\n",
    "        ampl.option[\"solver\"] = \"gurobi\"\n",
    "        # Solve\n",
    "        ampl.solve()\n",
    "\n",
    "        schedule[day*24:(day+1)*24]  = ampl.get_variable('x').get_values().to_pandas()[\"x.val\"]\n",
    "        \n",
    "        initial_capacity = round(initial_capacity + sum(schedule[day*24:(day+1)*24]))\n",
    "\n",
    "    capacity = np.hstack((np.array([0]),np.cumsum(schedule)[:-1]))\n",
    "    df_optim = df.copy()\n",
    "    df_optim[\"schedule\"] = schedule\n",
    "    df_optim[\"capacity\"] = np.hstack((np.array([0]),np.cumsum(schedule)[:-1]))\n",
    "    df_optim[\"SOC\"] = 100*df_optim[\"capacity\"]/NEC\n",
    "\n",
    "    return df_optim\n",
    "\n",
    "        \n",
    "        \n"
   ]
  },
  {
   "cell_type": "markdown",
   "metadata": {},
   "source": [
    "# Plot functions :"
   ]
  },
  {
   "cell_type": "code",
   "execution_count": 48,
   "metadata": {},
   "outputs": [],
   "source": [
    "def display_profit(df_optim) :\n",
    "    \"\"\"\n",
    "    Displays daily profits \n",
    "    \"\"\"\n",
    "\n",
    "    days =pd.to_datetime(df_optim[\"timestamp\"].apply(lambda x: datetime.datetime(x.year, x.month, x.day)),utc=True).unique()\n",
    "    \n",
    "    daily_profit = []\n",
    "\n",
    "\n",
    "    for i in range(len(days)) :\n",
    "        daily_profit.append(-df_optim.price_euros_wh.iloc[i*24:(i+1)*24] @ df_optim.schedule.iloc[i*24:(i+1)*24])\n",
    "\n",
    "    fig = make_subplots(specs=[[{\"secondary_y\": True}]])\n",
    "\n",
    "\n",
    "    fig.add_trace(go.Scatter(x=df_optim.timestamp, y=df_optim.price_euros_wh*10**6,name='Price (EUR/MWh)',line={\"shape\":\"hv\"},showlegend=True),\n",
    "    secondary_y=False)\n",
    "\n",
    "    fig.add_trace(go.Bar(x=days,y=daily_profit,name=\"Daily profit (EUR)\",offset=2,showlegend=True,opacity=0.5),\n",
    "    secondary_y=True)\n",
    "\n",
    "    fig.update_layout(\n",
    "    title_text=\"Daily profit<br>Total: {} EUR<br>Mean: {} EUR\".format(int(sum(daily_profit)), int(np.mean(daily_profit)))\n",
    "    )\n",
    "\n",
    "    fig.update_xaxes(title_text=\"Hour\")\n",
    "\n",
    "    fig.update_yaxes(title_text=\"Price (EUR/MWh)\", secondary_y=False)\n",
    "    fig.update_yaxes(title_text=\"Daily profit (EUR)\", secondary_y=True)\n",
    "\n",
    "    fig.update_layout(bargap=0.)\n",
    "    fig.write_html(\"out/profit.html\")\n",
    "    fig.show()\n",
    "    \n",
    "\n",
    "\n",
    "    \n",
    "    \n",
    "\n",
    "\n",
    "\n",
    "def display_schedule(df_optim,start,end) :\n",
    "    \"\"\"\n",
    "    Displays charge schedule between start datetime and end datetime \n",
    "    \"\"\"\n",
    "\t\t\n",
    "    mask = (df_optim.timestamp<end) & (df_optim.timestamp>=start)\n",
    "    df_to_show = df_optim[mask]\n",
    "\n",
    "\n",
    "    fig = make_subplots(specs=[[{\"secondary_y\": True}]])\n",
    "\n",
    "\n",
    "    fig.add_trace(go.Scatter(x=df_to_show.timestamp, y=df_to_show.price_euros_wh*10**6,name='Price (EUR/MWh)',line={\"shape\":\"hv\"},showlegend=True),\n",
    "        secondary_y=False)\n",
    "\n",
    "    fig.add_trace(\n",
    "        go.Scatter(x=df_to_show.timestamp,y=df_to_show.SOC,name=\"SOC (%)\",showlegend=True),secondary_y=True)\n",
    "\n",
    "\n",
    "\n",
    "    color = None \n",
    "    count = 0\n",
    "\n",
    "    shapes = []\n",
    "\n",
    "\n",
    "    for h in df_to_show.index[np.sign(df_to_show.schedule).diff() != 0] : \n",
    "        \n",
    "       \n",
    "        if (df_to_show.schedule[h] == 0 and not color) or (df_to_show.schedule[h] > 0  and color == \"green\") or (df_to_show.schedule[h] < 0  and color == \"red\") :\n",
    "            continue\n",
    "\n",
    "        elif df_to_show.schedule[h] == 0 and color :\n",
    "            shapes.append(dict(type=\"rect\",x0=df_to_show.timestamp[start], y0=1, x1=df_to_show.timestamp[h], y1=100,  yref=\"y2\",fillcolor=color, opacity=0.25, line_width=0))\n",
    "            color = None\n",
    "\n",
    "        elif df_to_show.schedule[h] > 0 and color == \"red\" : \n",
    "            shapes.append(dict(type=\"rect\",x0=df_to_show.timestamp[start], y0=1, x1=df_to_show.timestamp[h], y1=100, yref=\"y2\",fillcolor=color, opacity=0.25, line_width=0))\n",
    "            start = h \n",
    "            color = \"green\"\n",
    "\n",
    "        elif df_to_show.schedule[h] > 0 and not color :\n",
    "            start = h\n",
    "            color = \"green\"\n",
    "            \n",
    "        elif df_to_show.schedule[h] < 0 and color == \"green\" : \n",
    "            shapes.append(dict(type=\"rect\",x0=df_to_show.timestamp[start], y0=1, x1=df_to_show.timestamp[h], y1=100, yref=\"y2\", fillcolor=color, opacity=0.25, line_width=0))\n",
    "            start = h \n",
    "            color = \"red\"\n",
    "            \n",
    "        elif df_to_show.schedule[h] < 0 and not color :\n",
    "            start = h\n",
    "            color = \"red\"\n",
    "\n",
    "\n",
    "\n",
    "\n",
    "\n",
    "\n",
    "    # Add range slider\n",
    "    fig.update_layout(\n",
    "        xaxis=dict(\n",
    "            rangeselector=dict(\n",
    "                buttons=list([\n",
    "                    dict(step=\"all\"),\n",
    "                    dict(count=1,\n",
    "                        label=\"1m\",\n",
    "                        step=\"month\",\n",
    "                        stepmode=\"backward\"),\n",
    "                    dict(count=2*7,\n",
    "                        label=\"2w\",\n",
    "                        step=\"day\",\n",
    "                        stepmode=\"backward\"),\n",
    "                    dict(count=1*7,\n",
    "                        label=\"1w\",\n",
    "                        step=\"day\",\n",
    "                        stepmode=\"backward\"),\n",
    "                    dict(count=2,\n",
    "                        label=\"2d\",\n",
    "                        step=\"day\",\n",
    "                        stepmode=\"backward\"),\n",
    "                    dict(count=1,\n",
    "                        label=\"1d\",\n",
    "                        step=\"day\",\n",
    "                        stepmode=\"backward\"),\n",
    "                    \n",
    "                ])\n",
    "            ),\n",
    "            rangeslider=dict(\n",
    "                visible=True\n",
    "            ),\n",
    "            type=\"date\"\n",
    "        )\n",
    "    )\n",
    "\n",
    "    fig.update_layout(\n",
    "        shapes=shapes)\n",
    "\n",
    "\n",
    "    fig.update_layout(\n",
    "    title_text=\"Charge schedule.    Please use the buttons below to set the data range.<br>\"\n",
    "    )\n",
    "\n",
    "    fig.update_xaxes(title_text=\"Date\")\n",
    "\n",
    "    fig.update_yaxes(title_text=\"Price (EUR/MWh)\", secondary_y=False)\n",
    "    fig.update_yaxes(title_text=\"SOC (%)\", secondary_y=True)\n",
    "        \n",
    "    fig.show()  \n",
    "    fig.write_html(\"out/schedule.html\")\n",
    "\n",
    "\n",
    "\n",
    "\n",
    "\n",
    "    "
   ]
  },
  {
   "attachments": {},
   "cell_type": "markdown",
   "metadata": {},
   "source": [
    "# Price dataset :"
   ]
  },
  {
   "cell_type": "code",
   "execution_count": 49,
   "metadata": {},
   "outputs": [],
   "source": [
    "df = pd.read_csv(\"data/european_wholesale_electricity_price_data_hourly.csv\")\n",
    "df.rename(columns={\"Datetime (UTC)\":\"timestamp\",\"Price (EUR/MWhe)\":\"price_euros_wh\"},inplace=True, errors='raise')\n",
    "df[\"timestamp\"] = pd.to_datetime(df[\"timestamp\"], format=\"%Y-%m-%dT%H:%M:%S.%f%Z\")\n",
    "\n",
    "df.price_euros_wh /= 10 ** 6\n",
    "\n",
    "start = \"2022-01-15 00:00:00\"\n",
    "end = \"2022-01-20 00:00:00\"\n",
    "country = \"Germany\"\n",
    "\n",
    "df = df[df[\"Country\"] == country]\n",
    "mask = (df.timestamp<end) & (df.timestamp>=start)\n",
    "df = df[mask]\n",
    "\n"
   ]
  },
  {
   "cell_type": "markdown",
   "metadata": {},
   "source": [
    "# Optimize and show schedule :"
   ]
  },
  {
   "cell_type": "code",
   "execution_count": 56,
   "metadata": {},
   "outputs": [
    {
     "name": "stdout",
     "output_type": "stream",
     "text": [
      "Gurobi 10.0.0:Gurobi 10.0.0: optimal solution; objective 11.2045\n",
      "169 simplex iterations\n",
      "1 branching nodes\n",
      "Gurobi 10.0.0:Gurobi 10.0.0: optimal solution; objective 2.989\n",
      "206 simplex iterations\n",
      "1 branching nodes\n",
      "Gurobi 10.0.0:Gurobi 10.0.0: optimal solution; objective 26.3715\n",
      "220 simplex iterations\n",
      "1 branching nodes\n",
      "Gurobi 10.0.0:Gurobi 10.0.0: optimal solution; objective 14.198\n",
      "174 simplex iterations\n",
      "1 branching nodes\n",
      "Gurobi 10.0.0:Gurobi 10.0.0: optimal solution; objective 11.327\n",
      "185 simplex iterations\n",
      "1 branching nodes\n"
     ]
    }
   ],
   "source": [
    "# df_optim = optimize(df)\n",
    "df_optim = optimize_day_by_day(df)"
   ]
  },
  {
   "cell_type": "markdown",
   "metadata": {},
   "source": [
    "# Show profits :"
   ]
  },
  {
   "cell_type": "code",
   "execution_count": 57,
   "metadata": {},
   "outputs": [
    {
     "data": {
      "application/vnd.plotly.v1+json": {
       "config": {
        "plotlyServerURL": "https://plot.ly"
       },
       "data": [
        {
         "line": {
          "shape": "hv"
         },
         "name": "Price (EUR/MWh)",
         "showlegend": true,
         "type": "scatter",
         "x": [
          "2022-01-15T00:00:00",
          "2022-01-15T01:00:00",
          "2022-01-15T02:00:00",
          "2022-01-15T03:00:00",
          "2022-01-15T04:00:00",
          "2022-01-15T05:00:00",
          "2022-01-15T06:00:00",
          "2022-01-15T07:00:00",
          "2022-01-15T08:00:00",
          "2022-01-15T09:00:00",
          "2022-01-15T10:00:00",
          "2022-01-15T11:00:00",
          "2022-01-15T12:00:00",
          "2022-01-15T13:00:00",
          "2022-01-15T14:00:00",
          "2022-01-15T15:00:00",
          "2022-01-15T16:00:00",
          "2022-01-15T17:00:00",
          "2022-01-15T18:00:00",
          "2022-01-15T19:00:00",
          "2022-01-15T20:00:00",
          "2022-01-15T21:00:00",
          "2022-01-15T22:00:00",
          "2022-01-15T23:00:00",
          "2022-01-16T00:00:00",
          "2022-01-16T01:00:00",
          "2022-01-16T02:00:00",
          "2022-01-16T03:00:00",
          "2022-01-16T04:00:00",
          "2022-01-16T05:00:00",
          "2022-01-16T06:00:00",
          "2022-01-16T07:00:00",
          "2022-01-16T08:00:00",
          "2022-01-16T09:00:00",
          "2022-01-16T10:00:00",
          "2022-01-16T11:00:00",
          "2022-01-16T12:00:00",
          "2022-01-16T13:00:00",
          "2022-01-16T14:00:00",
          "2022-01-16T15:00:00",
          "2022-01-16T16:00:00",
          "2022-01-16T17:00:00",
          "2022-01-16T18:00:00",
          "2022-01-16T19:00:00",
          "2022-01-16T20:00:00",
          "2022-01-16T21:00:00",
          "2022-01-16T22:00:00",
          "2022-01-16T23:00:00",
          "2022-01-17T00:00:00",
          "2022-01-17T01:00:00",
          "2022-01-17T02:00:00",
          "2022-01-17T03:00:00",
          "2022-01-17T04:00:00",
          "2022-01-17T05:00:00",
          "2022-01-17T06:00:00",
          "2022-01-17T07:00:00",
          "2022-01-17T08:00:00",
          "2022-01-17T09:00:00",
          "2022-01-17T10:00:00",
          "2022-01-17T11:00:00",
          "2022-01-17T12:00:00",
          "2022-01-17T13:00:00",
          "2022-01-17T14:00:00",
          "2022-01-17T15:00:00",
          "2022-01-17T16:00:00",
          "2022-01-17T17:00:00",
          "2022-01-17T18:00:00",
          "2022-01-17T19:00:00",
          "2022-01-17T20:00:00",
          "2022-01-17T21:00:00",
          "2022-01-17T22:00:00",
          "2022-01-17T23:00:00",
          "2022-01-18T00:00:00",
          "2022-01-18T01:00:00",
          "2022-01-18T02:00:00",
          "2022-01-18T03:00:00",
          "2022-01-18T04:00:00",
          "2022-01-18T05:00:00",
          "2022-01-18T06:00:00",
          "2022-01-18T07:00:00",
          "2022-01-18T08:00:00",
          "2022-01-18T09:00:00",
          "2022-01-18T10:00:00",
          "2022-01-18T11:00:00",
          "2022-01-18T12:00:00",
          "2022-01-18T13:00:00",
          "2022-01-18T14:00:00",
          "2022-01-18T15:00:00",
          "2022-01-18T16:00:00",
          "2022-01-18T17:00:00",
          "2022-01-18T18:00:00",
          "2022-01-18T19:00:00",
          "2022-01-18T20:00:00",
          "2022-01-18T21:00:00",
          "2022-01-18T22:00:00",
          "2022-01-18T23:00:00",
          "2022-01-19T00:00:00",
          "2022-01-19T01:00:00",
          "2022-01-19T02:00:00",
          "2022-01-19T03:00:00",
          "2022-01-19T04:00:00",
          "2022-01-19T05:00:00",
          "2022-01-19T06:00:00",
          "2022-01-19T07:00:00",
          "2022-01-19T08:00:00",
          "2022-01-19T09:00:00",
          "2022-01-19T10:00:00",
          "2022-01-19T11:00:00",
          "2022-01-19T12:00:00",
          "2022-01-19T13:00:00",
          "2022-01-19T14:00:00",
          "2022-01-19T15:00:00",
          "2022-01-19T16:00:00",
          "2022-01-19T17:00:00",
          "2022-01-19T18:00:00",
          "2022-01-19T19:00:00",
          "2022-01-19T20:00:00",
          "2022-01-19T21:00:00",
          "2022-01-19T22:00:00",
          "2022-01-19T23:00:00"
         ],
         "xaxis": "x",
         "y": [
          205.08,
          194.62,
          182.64,
          187.83,
          190.58,
          190.27,
          204.46,
          212.84,
          230,
          222.39,
          214.92,
          208.43,
          200,
          203.09,
          213.98,
          226.32,
          260,
          267.03,
          261.41,
          243.62,
          220.1,
          212.85,
          209.41,
          225.92,
          216,
          189.49,
          181.98,
          174.98,
          165.91,
          118.71,
          119.45,
          125.85999999999999,
          129.46,
          125.99000000000001,
          131.83,
          123.01,
          122.49,
          102.67,
          121.95,
          115,
          125.42,
          112.4,
          97.49,
          90.14,
          97.09,
          93.85,
          87.2,
          78.08,
          34,
          12.33,
          10.09,
          12.83,
          36.16,
          92.03,
          102.8,
          126,
          100.9,
          112.03,
          111.25,
          100.58,
          111.65,
          127.38,
          168.85,
          199.85,
          249.99,
          254.37000000000003,
          237.28,
          220,
          215.94,
          209.16,
          180,
          188.94,
          192.68,
          180.09,
          188.09,
          193.99,
          205.07,
          229.1,
          273.71,
          294.4,
          290.64,
          275.4,
          265.1,
          250,
          244.26999999999998,
          243.02,
          249.21999999999997,
          260,
          278,
          276.39,
          255.03,
          237.28,
          224.19,
          190.78,
          175.49,
          169.01,
          163.48,
          162.93,
          160.01,
          163.16,
          165.59,
          198.39,
          227.42,
          261.65,
          252.67,
          221.75,
          193.62,
          170.14,
          160.47,
          164.13,
          180.5,
          179.26,
          173.99,
          167.34,
          135.61,
          125.05,
          120.9,
          118.08,
          97.16,
          90.05
         ],
         "yaxis": "y"
        },
        {
         "name": "SOC (%)",
         "showlegend": true,
         "type": "scatter",
         "x": [
          "2022-01-15T00:00:00",
          "2022-01-15T01:00:00",
          "2022-01-15T02:00:00",
          "2022-01-15T03:00:00",
          "2022-01-15T04:00:00",
          "2022-01-15T05:00:00",
          "2022-01-15T06:00:00",
          "2022-01-15T07:00:00",
          "2022-01-15T08:00:00",
          "2022-01-15T09:00:00",
          "2022-01-15T10:00:00",
          "2022-01-15T11:00:00",
          "2022-01-15T12:00:00",
          "2022-01-15T13:00:00",
          "2022-01-15T14:00:00",
          "2022-01-15T15:00:00",
          "2022-01-15T16:00:00",
          "2022-01-15T17:00:00",
          "2022-01-15T18:00:00",
          "2022-01-15T19:00:00",
          "2022-01-15T20:00:00",
          "2022-01-15T21:00:00",
          "2022-01-15T22:00:00",
          "2022-01-15T23:00:00",
          "2022-01-16T00:00:00",
          "2022-01-16T01:00:00",
          "2022-01-16T02:00:00",
          "2022-01-16T03:00:00",
          "2022-01-16T04:00:00",
          "2022-01-16T05:00:00",
          "2022-01-16T06:00:00",
          "2022-01-16T07:00:00",
          "2022-01-16T08:00:00",
          "2022-01-16T09:00:00",
          "2022-01-16T10:00:00",
          "2022-01-16T11:00:00",
          "2022-01-16T12:00:00",
          "2022-01-16T13:00:00",
          "2022-01-16T14:00:00",
          "2022-01-16T15:00:00",
          "2022-01-16T16:00:00",
          "2022-01-16T17:00:00",
          "2022-01-16T18:00:00",
          "2022-01-16T19:00:00",
          "2022-01-16T20:00:00",
          "2022-01-16T21:00:00",
          "2022-01-16T22:00:00",
          "2022-01-16T23:00:00",
          "2022-01-17T00:00:00",
          "2022-01-17T01:00:00",
          "2022-01-17T02:00:00",
          "2022-01-17T03:00:00",
          "2022-01-17T04:00:00",
          "2022-01-17T05:00:00",
          "2022-01-17T06:00:00",
          "2022-01-17T07:00:00",
          "2022-01-17T08:00:00",
          "2022-01-17T09:00:00",
          "2022-01-17T10:00:00",
          "2022-01-17T11:00:00",
          "2022-01-17T12:00:00",
          "2022-01-17T13:00:00",
          "2022-01-17T14:00:00",
          "2022-01-17T15:00:00",
          "2022-01-17T16:00:00",
          "2022-01-17T17:00:00",
          "2022-01-17T18:00:00",
          "2022-01-17T19:00:00",
          "2022-01-17T20:00:00",
          "2022-01-17T21:00:00",
          "2022-01-17T22:00:00",
          "2022-01-17T23:00:00",
          "2022-01-18T00:00:00",
          "2022-01-18T01:00:00",
          "2022-01-18T02:00:00",
          "2022-01-18T03:00:00",
          "2022-01-18T04:00:00",
          "2022-01-18T05:00:00",
          "2022-01-18T06:00:00",
          "2022-01-18T07:00:00",
          "2022-01-18T08:00:00",
          "2022-01-18T09:00:00",
          "2022-01-18T10:00:00",
          "2022-01-18T11:00:00",
          "2022-01-18T12:00:00",
          "2022-01-18T13:00:00",
          "2022-01-18T14:00:00",
          "2022-01-18T15:00:00",
          "2022-01-18T16:00:00",
          "2022-01-18T17:00:00",
          "2022-01-18T18:00:00",
          "2022-01-18T19:00:00",
          "2022-01-18T20:00:00",
          "2022-01-18T21:00:00",
          "2022-01-18T22:00:00",
          "2022-01-18T23:00:00",
          "2022-01-19T00:00:00",
          "2022-01-19T01:00:00",
          "2022-01-19T02:00:00",
          "2022-01-19T03:00:00",
          "2022-01-19T04:00:00",
          "2022-01-19T05:00:00",
          "2022-01-19T06:00:00",
          "2022-01-19T07:00:00",
          "2022-01-19T08:00:00",
          "2022-01-19T09:00:00",
          "2022-01-19T10:00:00",
          "2022-01-19T11:00:00",
          "2022-01-19T12:00:00",
          "2022-01-19T13:00:00",
          "2022-01-19T14:00:00",
          "2022-01-19T15:00:00",
          "2022-01-19T16:00:00",
          "2022-01-19T17:00:00",
          "2022-01-19T18:00:00",
          "2022-01-19T19:00:00",
          "2022-01-19T20:00:00",
          "2022-01-19T21:00:00",
          "2022-01-19T22:00:00",
          "2022-01-19T23:00:00"
         ],
         "xaxis": "x",
         "y": [
          0,
          1.455191522836685e-14,
          1.455191522836685e-14,
          50.00000000000001,
          100,
          50,
          100,
          100,
          100,
          50.00000000000001,
          1.4551915228366852e-14,
          1.4551915228366852e-14,
          1.4551915228366852e-14,
          50.00000000000001,
          100,
          100,
          100,
          100,
          50,
          2.9103830456733704e-14,
          2.9103830456733704e-14,
          2.9103830456733704e-14,
          2.9103830456733704e-14,
          50.00000000000002,
          2.1827872842550278e-14,
          3.637978807091713e-14,
          3.637978807091713e-14,
          3.637978807091713e-14,
          3.637978807091713e-14,
          3.637978807091713e-14,
          50.00000000000003,
          100.00000000000004,
          100.00000000000004,
          50.000000000000036,
          49.99999999998502,
          -9.96078597381711e-12,
          3.637978807091713e-14,
          3.637978807091713e-14,
          50.00000000000003,
          3.637978807091713e-14,
          50.00000000000003,
          2.9103830456733704e-14,
          2.9103830456733704e-14,
          2.9103830456733704e-14,
          50.00000000000003,
          3.637978807091713e-14,
          3.637978807091713e-14,
          3.637978807091713e-14,
          3.637978807091713e-14,
          5.093170329928398e-14,
          50.00000000000005,
          100.00000000000004,
          100.00000000000004,
          100.00000000000004,
          100.00000000000004,
          100.00000000000004,
          50.00000000000005,
          100.00000000000004,
          50.00000000000005,
          50.00000000000005,
          100.00000000000004,
          100.00000000000004,
          100.00000000000004,
          100.00000000000004,
          100.00000000000004,
          50.000000000000036,
          3.637978807091713e-14,
          3.637978807091713e-14,
          3.637978807091713e-14,
          3.637978807091713e-14,
          3.637978807091713e-14,
          50.00000000000003,
          3.637978807091713e-14,
          5.093170329928398e-14,
          50.00000000000005,
          100.00000000000004,
          100.00000000000004,
          100.00000000000004,
          100.00000000000004,
          100.00000000000004,
          50.000000000000036,
          4.3655745685100556e-14,
          4.3655745685100556e-14,
          4.3655745685100556e-14,
          4.3655745685100556e-14,
          50.000000000000036,
          100.00000000000004,
          100.00000000000004,
          100.00000000000004,
          50.00000000000002,
          4.3655745685100556e-14,
          4.3655745685100556e-14,
          4.3655745685100556e-14,
          4.3655745685100556e-14,
          4.3655745685100556e-14,
          4.3655745685100556e-14,
          4.3655745685100556e-14,
          5.820766091346741e-14,
          50.00000000000005,
          100.00000000000006,
          100.00000000000006,
          100.00000000000006,
          100.00000000000006,
          100.00000000000006,
          50.00000000000005,
          5.820766091346741e-14,
          5.820766091346741e-14,
          5.820766091346741e-14,
          5.820766091346741e-14,
          50.00000000000006,
          100.00000000000006,
          50.00000000000006,
          8.731149137020111e-14,
          8.731149137020111e-14,
          8.731149137020111e-14,
          8.731149137020111e-14,
          8.731149137020111e-14,
          8.731149137020111e-14,
          8.731149137020111e-14,
          8.731149137020111e-14
         ],
         "yaxis": "y2"
        }
       ],
       "layout": {
        "shapes": [
         {
          "fillcolor": "green",
          "line": {
           "width": 0
          },
          "opacity": 0.25,
          "type": "rect",
          "x0": "2022-01-15T00:00:00",
          "x1": "2022-01-15T01:00:00",
          "y0": 1,
          "y1": 100,
          "yref": "y2"
         },
         {
          "fillcolor": "green",
          "line": {
           "width": 0
          },
          "opacity": 0.25,
          "type": "rect",
          "x0": "2022-01-15T02:00:00",
          "x1": "2022-01-15T04:00:00",
          "y0": 1,
          "y1": 100,
          "yref": "y2"
         },
         {
          "fillcolor": "red",
          "line": {
           "width": 0
          },
          "opacity": 0.25,
          "type": "rect",
          "x0": "2022-01-15T04:00:00",
          "x1": "2022-01-15T05:00:00",
          "y0": 1,
          "y1": 100,
          "yref": "y2"
         },
         {
          "fillcolor": "green",
          "line": {
           "width": 0
          },
          "opacity": 0.25,
          "type": "rect",
          "x0": "2022-01-15T05:00:00",
          "x1": "2022-01-15T06:00:00",
          "y0": 1,
          "y1": 100,
          "yref": "y2"
         },
         {
          "fillcolor": "red",
          "line": {
           "width": 0
          },
          "opacity": 0.25,
          "type": "rect",
          "x0": "2022-01-15T08:00:00",
          "x1": "2022-01-15T10:00:00",
          "y0": 1,
          "y1": 100,
          "yref": "y2"
         },
         {
          "fillcolor": "green",
          "line": {
           "width": 0
          },
          "opacity": 0.25,
          "type": "rect",
          "x0": "2022-01-15T12:00:00",
          "x1": "2022-01-15T14:00:00",
          "y0": 1,
          "y1": 100,
          "yref": "y2"
         },
         {
          "fillcolor": "red",
          "line": {
           "width": 0
          },
          "opacity": 0.25,
          "type": "rect",
          "x0": "2022-01-15T17:00:00",
          "x1": "2022-01-15T19:00:00",
          "y0": 1,
          "y1": 100,
          "yref": "y2"
         },
         {
          "fillcolor": "green",
          "line": {
           "width": 0
          },
          "opacity": 0.25,
          "type": "rect",
          "x0": "2022-01-15T22:00:00",
          "x1": "2022-01-15T23:00:00",
          "y0": 1,
          "y1": 100,
          "yref": "y2"
         },
         {
          "fillcolor": "red",
          "line": {
           "width": 0
          },
          "opacity": 0.25,
          "type": "rect",
          "x0": "2022-01-15T23:00:00",
          "x1": "2022-01-16T00:00:00",
          "y0": 1,
          "y1": 100,
          "yref": "y2"
         },
         {
          "fillcolor": "green",
          "line": {
           "width": 0
          },
          "opacity": 0.25,
          "type": "rect",
          "x0": "2022-01-16T00:00:00",
          "x1": "2022-01-16T01:00:00",
          "y0": 1,
          "y1": 100,
          "yref": "y2"
         },
         {
          "fillcolor": "green",
          "line": {
           "width": 0
          },
          "opacity": 0.25,
          "type": "rect",
          "x0": "2022-01-16T05:00:00",
          "x1": "2022-01-16T07:00:00",
          "y0": 1,
          "y1": 100,
          "yref": "y2"
         },
         {
          "fillcolor": "red",
          "line": {
           "width": 0
          },
          "opacity": 0.25,
          "type": "rect",
          "x0": "2022-01-16T08:00:00",
          "x1": "2022-01-16T11:00:00",
          "y0": 1,
          "y1": 100,
          "yref": "y2"
         },
         {
          "fillcolor": "green",
          "line": {
           "width": 0
          },
          "opacity": 0.25,
          "type": "rect",
          "x0": "2022-01-16T11:00:00",
          "x1": "2022-01-16T12:00:00",
          "y0": 1,
          "y1": 100,
          "yref": "y2"
         },
         {
          "fillcolor": "green",
          "line": {
           "width": 0
          },
          "opacity": 0.25,
          "type": "rect",
          "x0": "2022-01-16T13:00:00",
          "x1": "2022-01-16T14:00:00",
          "y0": 1,
          "y1": 100,
          "yref": "y2"
         },
         {
          "fillcolor": "red",
          "line": {
           "width": 0
          },
          "opacity": 0.25,
          "type": "rect",
          "x0": "2022-01-16T14:00:00",
          "x1": "2022-01-16T15:00:00",
          "y0": 1,
          "y1": 100,
          "yref": "y2"
         },
         {
          "fillcolor": "green",
          "line": {
           "width": 0
          },
          "opacity": 0.25,
          "type": "rect",
          "x0": "2022-01-16T15:00:00",
          "x1": "2022-01-16T16:00:00",
          "y0": 1,
          "y1": 100,
          "yref": "y2"
         },
         {
          "fillcolor": "red",
          "line": {
           "width": 0
          },
          "opacity": 0.25,
          "type": "rect",
          "x0": "2022-01-16T16:00:00",
          "x1": "2022-01-16T17:00:00",
          "y0": 1,
          "y1": 100,
          "yref": "y2"
         },
         {
          "fillcolor": "green",
          "line": {
           "width": 0
          },
          "opacity": 0.25,
          "type": "rect",
          "x0": "2022-01-16T19:00:00",
          "x1": "2022-01-16T20:00:00",
          "y0": 1,
          "y1": 100,
          "yref": "y2"
         },
         {
          "fillcolor": "red",
          "line": {
           "width": 0
          },
          "opacity": 0.25,
          "type": "rect",
          "x0": "2022-01-16T20:00:00",
          "x1": "2022-01-16T21:00:00",
          "y0": 1,
          "y1": 100,
          "yref": "y2"
         },
         {
          "fillcolor": "green",
          "line": {
           "width": 0
          },
          "opacity": 0.25,
          "type": "rect",
          "x0": "2022-01-17T00:00:00",
          "x1": "2022-01-17T03:00:00",
          "y0": 1,
          "y1": 100,
          "yref": "y2"
         },
         {
          "fillcolor": "red",
          "line": {
           "width": 0
          },
          "opacity": 0.25,
          "type": "rect",
          "x0": "2022-01-17T07:00:00",
          "x1": "2022-01-17T08:00:00",
          "y0": 1,
          "y1": 100,
          "yref": "y2"
         },
         {
          "fillcolor": "green",
          "line": {
           "width": 0
          },
          "opacity": 0.25,
          "type": "rect",
          "x0": "2022-01-17T08:00:00",
          "x1": "2022-01-17T09:00:00",
          "y0": 1,
          "y1": 100,
          "yref": "y2"
         },
         {
          "fillcolor": "red",
          "line": {
           "width": 0
          },
          "opacity": 0.25,
          "type": "rect",
          "x0": "2022-01-17T09:00:00",
          "x1": "2022-01-17T10:00:00",
          "y0": 1,
          "y1": 100,
          "yref": "y2"
         },
         {
          "fillcolor": "green",
          "line": {
           "width": 0
          },
          "opacity": 0.25,
          "type": "rect",
          "x0": "2022-01-17T11:00:00",
          "x1": "2022-01-17T12:00:00",
          "y0": 1,
          "y1": 100,
          "yref": "y2"
         },
         {
          "fillcolor": "red",
          "line": {
           "width": 0
          },
          "opacity": 0.25,
          "type": "rect",
          "x0": "2022-01-17T16:00:00",
          "x1": "2022-01-17T18:00:00",
          "y0": 1,
          "y1": 100,
          "yref": "y2"
         },
         {
          "fillcolor": "green",
          "line": {
           "width": 0
          },
          "opacity": 0.25,
          "type": "rect",
          "x0": "2022-01-17T22:00:00",
          "x1": "2022-01-17T23:00:00",
          "y0": 1,
          "y1": 100,
          "yref": "y2"
         },
         {
          "fillcolor": "red",
          "line": {
           "width": 0
          },
          "opacity": 0.25,
          "type": "rect",
          "x0": "2022-01-17T23:00:00",
          "x1": "2022-01-18T00:00:00",
          "y0": 1,
          "y1": 100,
          "yref": "y2"
         },
         {
          "fillcolor": "green",
          "line": {
           "width": 0
          },
          "opacity": 0.25,
          "type": "rect",
          "x0": "2022-01-18T00:00:00",
          "x1": "2022-01-18T03:00:00",
          "y0": 1,
          "y1": 100,
          "yref": "y2"
         },
         {
          "fillcolor": "red",
          "line": {
           "width": 0
          },
          "opacity": 0.25,
          "type": "rect",
          "x0": "2022-01-18T07:00:00",
          "x1": "2022-01-18T09:00:00",
          "y0": 1,
          "y1": 100,
          "yref": "y2"
         },
         {
          "fillcolor": "green",
          "line": {
           "width": 0
          },
          "opacity": 0.25,
          "type": "rect",
          "x0": "2022-01-18T12:00:00",
          "x1": "2022-01-18T14:00:00",
          "y0": 1,
          "y1": 100,
          "yref": "y2"
         },
         {
          "fillcolor": "red",
          "line": {
           "width": 0
          },
          "opacity": 0.25,
          "type": "rect",
          "x0": "2022-01-18T16:00:00",
          "x1": "2022-01-18T18:00:00",
          "y0": 1,
          "y1": 100,
          "yref": "y2"
         },
         {
          "fillcolor": "green",
          "line": {
           "width": 0
          },
          "opacity": 0.25,
          "type": "rect",
          "x0": "2022-01-19T00:00:00",
          "x1": "2022-01-19T03:00:00",
          "y0": 1,
          "y1": 100,
          "yref": "y2"
         },
         {
          "fillcolor": "red",
          "line": {
           "width": 0
          },
          "opacity": 0.25,
          "type": "rect",
          "x0": "2022-01-19T07:00:00",
          "x1": "2022-01-19T09:00:00",
          "y0": 1,
          "y1": 100,
          "yref": "y2"
         },
         {
          "fillcolor": "green",
          "line": {
           "width": 0
          },
          "opacity": 0.25,
          "type": "rect",
          "x0": "2022-01-19T12:00:00",
          "x1": "2022-01-19T14:00:00",
          "y0": 1,
          "y1": 100,
          "yref": "y2"
         },
         {
          "fillcolor": "red",
          "line": {
           "width": 0
          },
          "opacity": 0.25,
          "type": "rect",
          "x0": "2022-01-19T14:00:00",
          "x1": "2022-01-19T16:00:00",
          "y0": 1,
          "y1": 100,
          "yref": "y2"
         }
        ],
        "template": {
         "data": {
          "bar": [
           {
            "error_x": {
             "color": "#2a3f5f"
            },
            "error_y": {
             "color": "#2a3f5f"
            },
            "marker": {
             "line": {
              "color": "#E5ECF6",
              "width": 0.5
             },
             "pattern": {
              "fillmode": "overlay",
              "size": 10,
              "solidity": 0.2
             }
            },
            "type": "bar"
           }
          ],
          "barpolar": [
           {
            "marker": {
             "line": {
              "color": "#E5ECF6",
              "width": 0.5
             },
             "pattern": {
              "fillmode": "overlay",
              "size": 10,
              "solidity": 0.2
             }
            },
            "type": "barpolar"
           }
          ],
          "carpet": [
           {
            "aaxis": {
             "endlinecolor": "#2a3f5f",
             "gridcolor": "white",
             "linecolor": "white",
             "minorgridcolor": "white",
             "startlinecolor": "#2a3f5f"
            },
            "baxis": {
             "endlinecolor": "#2a3f5f",
             "gridcolor": "white",
             "linecolor": "white",
             "minorgridcolor": "white",
             "startlinecolor": "#2a3f5f"
            },
            "type": "carpet"
           }
          ],
          "choropleth": [
           {
            "colorbar": {
             "outlinewidth": 0,
             "ticks": ""
            },
            "type": "choropleth"
           }
          ],
          "contour": [
           {
            "colorbar": {
             "outlinewidth": 0,
             "ticks": ""
            },
            "colorscale": [
             [
              0,
              "#0d0887"
             ],
             [
              0.1111111111111111,
              "#46039f"
             ],
             [
              0.2222222222222222,
              "#7201a8"
             ],
             [
              0.3333333333333333,
              "#9c179e"
             ],
             [
              0.4444444444444444,
              "#bd3786"
             ],
             [
              0.5555555555555556,
              "#d8576b"
             ],
             [
              0.6666666666666666,
              "#ed7953"
             ],
             [
              0.7777777777777778,
              "#fb9f3a"
             ],
             [
              0.8888888888888888,
              "#fdca26"
             ],
             [
              1,
              "#f0f921"
             ]
            ],
            "type": "contour"
           }
          ],
          "contourcarpet": [
           {
            "colorbar": {
             "outlinewidth": 0,
             "ticks": ""
            },
            "type": "contourcarpet"
           }
          ],
          "heatmap": [
           {
            "colorbar": {
             "outlinewidth": 0,
             "ticks": ""
            },
            "colorscale": [
             [
              0,
              "#0d0887"
             ],
             [
              0.1111111111111111,
              "#46039f"
             ],
             [
              0.2222222222222222,
              "#7201a8"
             ],
             [
              0.3333333333333333,
              "#9c179e"
             ],
             [
              0.4444444444444444,
              "#bd3786"
             ],
             [
              0.5555555555555556,
              "#d8576b"
             ],
             [
              0.6666666666666666,
              "#ed7953"
             ],
             [
              0.7777777777777778,
              "#fb9f3a"
             ],
             [
              0.8888888888888888,
              "#fdca26"
             ],
             [
              1,
              "#f0f921"
             ]
            ],
            "type": "heatmap"
           }
          ],
          "heatmapgl": [
           {
            "colorbar": {
             "outlinewidth": 0,
             "ticks": ""
            },
            "colorscale": [
             [
              0,
              "#0d0887"
             ],
             [
              0.1111111111111111,
              "#46039f"
             ],
             [
              0.2222222222222222,
              "#7201a8"
             ],
             [
              0.3333333333333333,
              "#9c179e"
             ],
             [
              0.4444444444444444,
              "#bd3786"
             ],
             [
              0.5555555555555556,
              "#d8576b"
             ],
             [
              0.6666666666666666,
              "#ed7953"
             ],
             [
              0.7777777777777778,
              "#fb9f3a"
             ],
             [
              0.8888888888888888,
              "#fdca26"
             ],
             [
              1,
              "#f0f921"
             ]
            ],
            "type": "heatmapgl"
           }
          ],
          "histogram": [
           {
            "marker": {
             "pattern": {
              "fillmode": "overlay",
              "size": 10,
              "solidity": 0.2
             }
            },
            "type": "histogram"
           }
          ],
          "histogram2d": [
           {
            "colorbar": {
             "outlinewidth": 0,
             "ticks": ""
            },
            "colorscale": [
             [
              0,
              "#0d0887"
             ],
             [
              0.1111111111111111,
              "#46039f"
             ],
             [
              0.2222222222222222,
              "#7201a8"
             ],
             [
              0.3333333333333333,
              "#9c179e"
             ],
             [
              0.4444444444444444,
              "#bd3786"
             ],
             [
              0.5555555555555556,
              "#d8576b"
             ],
             [
              0.6666666666666666,
              "#ed7953"
             ],
             [
              0.7777777777777778,
              "#fb9f3a"
             ],
             [
              0.8888888888888888,
              "#fdca26"
             ],
             [
              1,
              "#f0f921"
             ]
            ],
            "type": "histogram2d"
           }
          ],
          "histogram2dcontour": [
           {
            "colorbar": {
             "outlinewidth": 0,
             "ticks": ""
            },
            "colorscale": [
             [
              0,
              "#0d0887"
             ],
             [
              0.1111111111111111,
              "#46039f"
             ],
             [
              0.2222222222222222,
              "#7201a8"
             ],
             [
              0.3333333333333333,
              "#9c179e"
             ],
             [
              0.4444444444444444,
              "#bd3786"
             ],
             [
              0.5555555555555556,
              "#d8576b"
             ],
             [
              0.6666666666666666,
              "#ed7953"
             ],
             [
              0.7777777777777778,
              "#fb9f3a"
             ],
             [
              0.8888888888888888,
              "#fdca26"
             ],
             [
              1,
              "#f0f921"
             ]
            ],
            "type": "histogram2dcontour"
           }
          ],
          "mesh3d": [
           {
            "colorbar": {
             "outlinewidth": 0,
             "ticks": ""
            },
            "type": "mesh3d"
           }
          ],
          "parcoords": [
           {
            "line": {
             "colorbar": {
              "outlinewidth": 0,
              "ticks": ""
             }
            },
            "type": "parcoords"
           }
          ],
          "pie": [
           {
            "automargin": true,
            "type": "pie"
           }
          ],
          "scatter": [
           {
            "fillpattern": {
             "fillmode": "overlay",
             "size": 10,
             "solidity": 0.2
            },
            "type": "scatter"
           }
          ],
          "scatter3d": [
           {
            "line": {
             "colorbar": {
              "outlinewidth": 0,
              "ticks": ""
             }
            },
            "marker": {
             "colorbar": {
              "outlinewidth": 0,
              "ticks": ""
             }
            },
            "type": "scatter3d"
           }
          ],
          "scattercarpet": [
           {
            "marker": {
             "colorbar": {
              "outlinewidth": 0,
              "ticks": ""
             }
            },
            "type": "scattercarpet"
           }
          ],
          "scattergeo": [
           {
            "marker": {
             "colorbar": {
              "outlinewidth": 0,
              "ticks": ""
             }
            },
            "type": "scattergeo"
           }
          ],
          "scattergl": [
           {
            "marker": {
             "colorbar": {
              "outlinewidth": 0,
              "ticks": ""
             }
            },
            "type": "scattergl"
           }
          ],
          "scattermapbox": [
           {
            "marker": {
             "colorbar": {
              "outlinewidth": 0,
              "ticks": ""
             }
            },
            "type": "scattermapbox"
           }
          ],
          "scatterpolar": [
           {
            "marker": {
             "colorbar": {
              "outlinewidth": 0,
              "ticks": ""
             }
            },
            "type": "scatterpolar"
           }
          ],
          "scatterpolargl": [
           {
            "marker": {
             "colorbar": {
              "outlinewidth": 0,
              "ticks": ""
             }
            },
            "type": "scatterpolargl"
           }
          ],
          "scatterternary": [
           {
            "marker": {
             "colorbar": {
              "outlinewidth": 0,
              "ticks": ""
             }
            },
            "type": "scatterternary"
           }
          ],
          "surface": [
           {
            "colorbar": {
             "outlinewidth": 0,
             "ticks": ""
            },
            "colorscale": [
             [
              0,
              "#0d0887"
             ],
             [
              0.1111111111111111,
              "#46039f"
             ],
             [
              0.2222222222222222,
              "#7201a8"
             ],
             [
              0.3333333333333333,
              "#9c179e"
             ],
             [
              0.4444444444444444,
              "#bd3786"
             ],
             [
              0.5555555555555556,
              "#d8576b"
             ],
             [
              0.6666666666666666,
              "#ed7953"
             ],
             [
              0.7777777777777778,
              "#fb9f3a"
             ],
             [
              0.8888888888888888,
              "#fdca26"
             ],
             [
              1,
              "#f0f921"
             ]
            ],
            "type": "surface"
           }
          ],
          "table": [
           {
            "cells": {
             "fill": {
              "color": "#EBF0F8"
             },
             "line": {
              "color": "white"
             }
            },
            "header": {
             "fill": {
              "color": "#C8D4E3"
             },
             "line": {
              "color": "white"
             }
            },
            "type": "table"
           }
          ]
         },
         "layout": {
          "annotationdefaults": {
           "arrowcolor": "#2a3f5f",
           "arrowhead": 0,
           "arrowwidth": 1
          },
          "autotypenumbers": "strict",
          "coloraxis": {
           "colorbar": {
            "outlinewidth": 0,
            "ticks": ""
           }
          },
          "colorscale": {
           "diverging": [
            [
             0,
             "#8e0152"
            ],
            [
             0.1,
             "#c51b7d"
            ],
            [
             0.2,
             "#de77ae"
            ],
            [
             0.3,
             "#f1b6da"
            ],
            [
             0.4,
             "#fde0ef"
            ],
            [
             0.5,
             "#f7f7f7"
            ],
            [
             0.6,
             "#e6f5d0"
            ],
            [
             0.7,
             "#b8e186"
            ],
            [
             0.8,
             "#7fbc41"
            ],
            [
             0.9,
             "#4d9221"
            ],
            [
             1,
             "#276419"
            ]
           ],
           "sequential": [
            [
             0,
             "#0d0887"
            ],
            [
             0.1111111111111111,
             "#46039f"
            ],
            [
             0.2222222222222222,
             "#7201a8"
            ],
            [
             0.3333333333333333,
             "#9c179e"
            ],
            [
             0.4444444444444444,
             "#bd3786"
            ],
            [
             0.5555555555555556,
             "#d8576b"
            ],
            [
             0.6666666666666666,
             "#ed7953"
            ],
            [
             0.7777777777777778,
             "#fb9f3a"
            ],
            [
             0.8888888888888888,
             "#fdca26"
            ],
            [
             1,
             "#f0f921"
            ]
           ],
           "sequentialminus": [
            [
             0,
             "#0d0887"
            ],
            [
             0.1111111111111111,
             "#46039f"
            ],
            [
             0.2222222222222222,
             "#7201a8"
            ],
            [
             0.3333333333333333,
             "#9c179e"
            ],
            [
             0.4444444444444444,
             "#bd3786"
            ],
            [
             0.5555555555555556,
             "#d8576b"
            ],
            [
             0.6666666666666666,
             "#ed7953"
            ],
            [
             0.7777777777777778,
             "#fb9f3a"
            ],
            [
             0.8888888888888888,
             "#fdca26"
            ],
            [
             1,
             "#f0f921"
            ]
           ]
          },
          "colorway": [
           "#636efa",
           "#EF553B",
           "#00cc96",
           "#ab63fa",
           "#FFA15A",
           "#19d3f3",
           "#FF6692",
           "#B6E880",
           "#FF97FF",
           "#FECB52"
          ],
          "font": {
           "color": "#2a3f5f"
          },
          "geo": {
           "bgcolor": "white",
           "lakecolor": "white",
           "landcolor": "#E5ECF6",
           "showlakes": true,
           "showland": true,
           "subunitcolor": "white"
          },
          "hoverlabel": {
           "align": "left"
          },
          "hovermode": "closest",
          "mapbox": {
           "style": "light"
          },
          "paper_bgcolor": "white",
          "plot_bgcolor": "#E5ECF6",
          "polar": {
           "angularaxis": {
            "gridcolor": "white",
            "linecolor": "white",
            "ticks": ""
           },
           "bgcolor": "#E5ECF6",
           "radialaxis": {
            "gridcolor": "white",
            "linecolor": "white",
            "ticks": ""
           }
          },
          "scene": {
           "xaxis": {
            "backgroundcolor": "#E5ECF6",
            "gridcolor": "white",
            "gridwidth": 2,
            "linecolor": "white",
            "showbackground": true,
            "ticks": "",
            "zerolinecolor": "white"
           },
           "yaxis": {
            "backgroundcolor": "#E5ECF6",
            "gridcolor": "white",
            "gridwidth": 2,
            "linecolor": "white",
            "showbackground": true,
            "ticks": "",
            "zerolinecolor": "white"
           },
           "zaxis": {
            "backgroundcolor": "#E5ECF6",
            "gridcolor": "white",
            "gridwidth": 2,
            "linecolor": "white",
            "showbackground": true,
            "ticks": "",
            "zerolinecolor": "white"
           }
          },
          "shapedefaults": {
           "line": {
            "color": "#2a3f5f"
           }
          },
          "ternary": {
           "aaxis": {
            "gridcolor": "white",
            "linecolor": "white",
            "ticks": ""
           },
           "baxis": {
            "gridcolor": "white",
            "linecolor": "white",
            "ticks": ""
           },
           "bgcolor": "#E5ECF6",
           "caxis": {
            "gridcolor": "white",
            "linecolor": "white",
            "ticks": ""
           }
          },
          "title": {
           "x": 0.05
          },
          "xaxis": {
           "automargin": true,
           "gridcolor": "white",
           "linecolor": "white",
           "ticks": "",
           "title": {
            "standoff": 15
           },
           "zerolinecolor": "white",
           "zerolinewidth": 2
          },
          "yaxis": {
           "automargin": true,
           "gridcolor": "white",
           "linecolor": "white",
           "ticks": "",
           "title": {
            "standoff": 15
           },
           "zerolinecolor": "white",
           "zerolinewidth": 2
          }
         }
        },
        "title": {
         "text": "Charge schedule.    Please use the buttons below to set the data range.<br>"
        },
        "xaxis": {
         "anchor": "y",
         "domain": [
          0,
          0.94
         ],
         "rangeselector": {
          "buttons": [
           {
            "step": "all"
           },
           {
            "count": 1,
            "label": "1m",
            "step": "month",
            "stepmode": "backward"
           },
           {
            "count": 14,
            "label": "2w",
            "step": "day",
            "stepmode": "backward"
           },
           {
            "count": 7,
            "label": "1w",
            "step": "day",
            "stepmode": "backward"
           },
           {
            "count": 2,
            "label": "2d",
            "step": "day",
            "stepmode": "backward"
           },
           {
            "count": 1,
            "label": "1d",
            "step": "day",
            "stepmode": "backward"
           }
          ]
         },
         "rangeslider": {
          "visible": true
         },
         "title": {
          "text": "Date"
         },
         "type": "date"
        },
        "yaxis": {
         "anchor": "x",
         "domain": [
          0,
          1
         ],
         "title": {
          "text": "Price (EUR/MWh)"
         }
        },
        "yaxis2": {
         "anchor": "x",
         "overlaying": "y",
         "side": "right",
         "title": {
          "text": "SOC (%)"
         }
        }
       }
      }
     },
     "metadata": {},
     "output_type": "display_data"
    }
   ],
   "source": [
    "start_show = start\n",
    "end_show = end\n",
    "display_schedule(df_optim,start_show,end_show)"
   ]
  },
  {
   "cell_type": "code",
   "execution_count": 58,
   "metadata": {},
   "outputs": [
    {
     "data": {
      "application/vnd.plotly.v1+json": {
       "config": {
        "plotlyServerURL": "https://plot.ly"
       },
       "data": [
        {
         "line": {
          "shape": "hv"
         },
         "name": "Price (EUR/MWh)",
         "showlegend": true,
         "type": "scatter",
         "x": [
          "2022-01-15T00:00:00",
          "2022-01-15T01:00:00",
          "2022-01-15T02:00:00",
          "2022-01-15T03:00:00",
          "2022-01-15T04:00:00",
          "2022-01-15T05:00:00",
          "2022-01-15T06:00:00",
          "2022-01-15T07:00:00",
          "2022-01-15T08:00:00",
          "2022-01-15T09:00:00",
          "2022-01-15T10:00:00",
          "2022-01-15T11:00:00",
          "2022-01-15T12:00:00",
          "2022-01-15T13:00:00",
          "2022-01-15T14:00:00",
          "2022-01-15T15:00:00",
          "2022-01-15T16:00:00",
          "2022-01-15T17:00:00",
          "2022-01-15T18:00:00",
          "2022-01-15T19:00:00",
          "2022-01-15T20:00:00",
          "2022-01-15T21:00:00",
          "2022-01-15T22:00:00",
          "2022-01-15T23:00:00",
          "2022-01-16T00:00:00",
          "2022-01-16T01:00:00",
          "2022-01-16T02:00:00",
          "2022-01-16T03:00:00",
          "2022-01-16T04:00:00",
          "2022-01-16T05:00:00",
          "2022-01-16T06:00:00",
          "2022-01-16T07:00:00",
          "2022-01-16T08:00:00",
          "2022-01-16T09:00:00",
          "2022-01-16T10:00:00",
          "2022-01-16T11:00:00",
          "2022-01-16T12:00:00",
          "2022-01-16T13:00:00",
          "2022-01-16T14:00:00",
          "2022-01-16T15:00:00",
          "2022-01-16T16:00:00",
          "2022-01-16T17:00:00",
          "2022-01-16T18:00:00",
          "2022-01-16T19:00:00",
          "2022-01-16T20:00:00",
          "2022-01-16T21:00:00",
          "2022-01-16T22:00:00",
          "2022-01-16T23:00:00",
          "2022-01-17T00:00:00",
          "2022-01-17T01:00:00",
          "2022-01-17T02:00:00",
          "2022-01-17T03:00:00",
          "2022-01-17T04:00:00",
          "2022-01-17T05:00:00",
          "2022-01-17T06:00:00",
          "2022-01-17T07:00:00",
          "2022-01-17T08:00:00",
          "2022-01-17T09:00:00",
          "2022-01-17T10:00:00",
          "2022-01-17T11:00:00",
          "2022-01-17T12:00:00",
          "2022-01-17T13:00:00",
          "2022-01-17T14:00:00",
          "2022-01-17T15:00:00",
          "2022-01-17T16:00:00",
          "2022-01-17T17:00:00",
          "2022-01-17T18:00:00",
          "2022-01-17T19:00:00",
          "2022-01-17T20:00:00",
          "2022-01-17T21:00:00",
          "2022-01-17T22:00:00",
          "2022-01-17T23:00:00",
          "2022-01-18T00:00:00",
          "2022-01-18T01:00:00",
          "2022-01-18T02:00:00",
          "2022-01-18T03:00:00",
          "2022-01-18T04:00:00",
          "2022-01-18T05:00:00",
          "2022-01-18T06:00:00",
          "2022-01-18T07:00:00",
          "2022-01-18T08:00:00",
          "2022-01-18T09:00:00",
          "2022-01-18T10:00:00",
          "2022-01-18T11:00:00",
          "2022-01-18T12:00:00",
          "2022-01-18T13:00:00",
          "2022-01-18T14:00:00",
          "2022-01-18T15:00:00",
          "2022-01-18T16:00:00",
          "2022-01-18T17:00:00",
          "2022-01-18T18:00:00",
          "2022-01-18T19:00:00",
          "2022-01-18T20:00:00",
          "2022-01-18T21:00:00",
          "2022-01-18T22:00:00",
          "2022-01-18T23:00:00",
          "2022-01-19T00:00:00",
          "2022-01-19T01:00:00",
          "2022-01-19T02:00:00",
          "2022-01-19T03:00:00",
          "2022-01-19T04:00:00",
          "2022-01-19T05:00:00",
          "2022-01-19T06:00:00",
          "2022-01-19T07:00:00",
          "2022-01-19T08:00:00",
          "2022-01-19T09:00:00",
          "2022-01-19T10:00:00",
          "2022-01-19T11:00:00",
          "2022-01-19T12:00:00",
          "2022-01-19T13:00:00",
          "2022-01-19T14:00:00",
          "2022-01-19T15:00:00",
          "2022-01-19T16:00:00",
          "2022-01-19T17:00:00",
          "2022-01-19T18:00:00",
          "2022-01-19T19:00:00",
          "2022-01-19T20:00:00",
          "2022-01-19T21:00:00",
          "2022-01-19T22:00:00",
          "2022-01-19T23:00:00"
         ],
         "xaxis": "x",
         "y": [
          205.08,
          194.62,
          182.64,
          187.83,
          190.58,
          190.27,
          204.46,
          212.84,
          230,
          222.39,
          214.92,
          208.43,
          200,
          203.09,
          213.98,
          226.32,
          260,
          267.03,
          261.41,
          243.62,
          220.1,
          212.85,
          209.41,
          225.92,
          216,
          189.49,
          181.98,
          174.98,
          165.91,
          118.71,
          119.45,
          125.85999999999999,
          129.46,
          125.99000000000001,
          131.83,
          123.01,
          122.49,
          102.67,
          121.95,
          115,
          125.42,
          112.4,
          97.49,
          90.14,
          97.09,
          93.85,
          87.2,
          78.08,
          34,
          12.33,
          10.09,
          12.83,
          36.16,
          92.03,
          102.8,
          126,
          100.9,
          112.03,
          111.25,
          100.58,
          111.65,
          127.38,
          168.85,
          199.85,
          249.99,
          254.37000000000003,
          237.28,
          220,
          215.94,
          209.16,
          180,
          188.94,
          192.68,
          180.09,
          188.09,
          193.99,
          205.07,
          229.1,
          273.71,
          294.4,
          290.64,
          275.4,
          265.1,
          250,
          244.26999999999998,
          243.02,
          249.21999999999997,
          260,
          278,
          276.39,
          255.03,
          237.28,
          224.19,
          190.78,
          175.49,
          169.01,
          163.48,
          162.93,
          160.01,
          163.16,
          165.59,
          198.39,
          227.42,
          261.65,
          252.67,
          221.75,
          193.62,
          170.14,
          160.47,
          164.13,
          180.5,
          179.26,
          173.99,
          167.34,
          135.61,
          125.05,
          120.9,
          118.08,
          97.16,
          90.05
         ],
         "yaxis": "y"
        },
        {
         "name": "Daily profit (EUR)",
         "offset": 2,
         "opacity": 0.5,
         "showlegend": true,
         "type": "bar",
         "x": [
          "2022-01-15T00:00:00+00:00",
          "2022-01-16T00:00:00+00:00",
          "2022-01-17T00:00:00+00:00",
          "2022-01-18T00:00:00+00:00",
          "2022-01-19T00:00:00+00:00"
         ],
         "xaxis": "x",
         "y": [
          11.204499999999985,
          2.989,
          26.371499999999997,
          14.19799999999999,
          11.326999999999995
         ],
         "yaxis": "y2"
        }
       ],
       "layout": {
        "bargap": 0,
        "template": {
         "data": {
          "bar": [
           {
            "error_x": {
             "color": "#2a3f5f"
            },
            "error_y": {
             "color": "#2a3f5f"
            },
            "marker": {
             "line": {
              "color": "#E5ECF6",
              "width": 0.5
             },
             "pattern": {
              "fillmode": "overlay",
              "size": 10,
              "solidity": 0.2
             }
            },
            "type": "bar"
           }
          ],
          "barpolar": [
           {
            "marker": {
             "line": {
              "color": "#E5ECF6",
              "width": 0.5
             },
             "pattern": {
              "fillmode": "overlay",
              "size": 10,
              "solidity": 0.2
             }
            },
            "type": "barpolar"
           }
          ],
          "carpet": [
           {
            "aaxis": {
             "endlinecolor": "#2a3f5f",
             "gridcolor": "white",
             "linecolor": "white",
             "minorgridcolor": "white",
             "startlinecolor": "#2a3f5f"
            },
            "baxis": {
             "endlinecolor": "#2a3f5f",
             "gridcolor": "white",
             "linecolor": "white",
             "minorgridcolor": "white",
             "startlinecolor": "#2a3f5f"
            },
            "type": "carpet"
           }
          ],
          "choropleth": [
           {
            "colorbar": {
             "outlinewidth": 0,
             "ticks": ""
            },
            "type": "choropleth"
           }
          ],
          "contour": [
           {
            "colorbar": {
             "outlinewidth": 0,
             "ticks": ""
            },
            "colorscale": [
             [
              0,
              "#0d0887"
             ],
             [
              0.1111111111111111,
              "#46039f"
             ],
             [
              0.2222222222222222,
              "#7201a8"
             ],
             [
              0.3333333333333333,
              "#9c179e"
             ],
             [
              0.4444444444444444,
              "#bd3786"
             ],
             [
              0.5555555555555556,
              "#d8576b"
             ],
             [
              0.6666666666666666,
              "#ed7953"
             ],
             [
              0.7777777777777778,
              "#fb9f3a"
             ],
             [
              0.8888888888888888,
              "#fdca26"
             ],
             [
              1,
              "#f0f921"
             ]
            ],
            "type": "contour"
           }
          ],
          "contourcarpet": [
           {
            "colorbar": {
             "outlinewidth": 0,
             "ticks": ""
            },
            "type": "contourcarpet"
           }
          ],
          "heatmap": [
           {
            "colorbar": {
             "outlinewidth": 0,
             "ticks": ""
            },
            "colorscale": [
             [
              0,
              "#0d0887"
             ],
             [
              0.1111111111111111,
              "#46039f"
             ],
             [
              0.2222222222222222,
              "#7201a8"
             ],
             [
              0.3333333333333333,
              "#9c179e"
             ],
             [
              0.4444444444444444,
              "#bd3786"
             ],
             [
              0.5555555555555556,
              "#d8576b"
             ],
             [
              0.6666666666666666,
              "#ed7953"
             ],
             [
              0.7777777777777778,
              "#fb9f3a"
             ],
             [
              0.8888888888888888,
              "#fdca26"
             ],
             [
              1,
              "#f0f921"
             ]
            ],
            "type": "heatmap"
           }
          ],
          "heatmapgl": [
           {
            "colorbar": {
             "outlinewidth": 0,
             "ticks": ""
            },
            "colorscale": [
             [
              0,
              "#0d0887"
             ],
             [
              0.1111111111111111,
              "#46039f"
             ],
             [
              0.2222222222222222,
              "#7201a8"
             ],
             [
              0.3333333333333333,
              "#9c179e"
             ],
             [
              0.4444444444444444,
              "#bd3786"
             ],
             [
              0.5555555555555556,
              "#d8576b"
             ],
             [
              0.6666666666666666,
              "#ed7953"
             ],
             [
              0.7777777777777778,
              "#fb9f3a"
             ],
             [
              0.8888888888888888,
              "#fdca26"
             ],
             [
              1,
              "#f0f921"
             ]
            ],
            "type": "heatmapgl"
           }
          ],
          "histogram": [
           {
            "marker": {
             "pattern": {
              "fillmode": "overlay",
              "size": 10,
              "solidity": 0.2
             }
            },
            "type": "histogram"
           }
          ],
          "histogram2d": [
           {
            "colorbar": {
             "outlinewidth": 0,
             "ticks": ""
            },
            "colorscale": [
             [
              0,
              "#0d0887"
             ],
             [
              0.1111111111111111,
              "#46039f"
             ],
             [
              0.2222222222222222,
              "#7201a8"
             ],
             [
              0.3333333333333333,
              "#9c179e"
             ],
             [
              0.4444444444444444,
              "#bd3786"
             ],
             [
              0.5555555555555556,
              "#d8576b"
             ],
             [
              0.6666666666666666,
              "#ed7953"
             ],
             [
              0.7777777777777778,
              "#fb9f3a"
             ],
             [
              0.8888888888888888,
              "#fdca26"
             ],
             [
              1,
              "#f0f921"
             ]
            ],
            "type": "histogram2d"
           }
          ],
          "histogram2dcontour": [
           {
            "colorbar": {
             "outlinewidth": 0,
             "ticks": ""
            },
            "colorscale": [
             [
              0,
              "#0d0887"
             ],
             [
              0.1111111111111111,
              "#46039f"
             ],
             [
              0.2222222222222222,
              "#7201a8"
             ],
             [
              0.3333333333333333,
              "#9c179e"
             ],
             [
              0.4444444444444444,
              "#bd3786"
             ],
             [
              0.5555555555555556,
              "#d8576b"
             ],
             [
              0.6666666666666666,
              "#ed7953"
             ],
             [
              0.7777777777777778,
              "#fb9f3a"
             ],
             [
              0.8888888888888888,
              "#fdca26"
             ],
             [
              1,
              "#f0f921"
             ]
            ],
            "type": "histogram2dcontour"
           }
          ],
          "mesh3d": [
           {
            "colorbar": {
             "outlinewidth": 0,
             "ticks": ""
            },
            "type": "mesh3d"
           }
          ],
          "parcoords": [
           {
            "line": {
             "colorbar": {
              "outlinewidth": 0,
              "ticks": ""
             }
            },
            "type": "parcoords"
           }
          ],
          "pie": [
           {
            "automargin": true,
            "type": "pie"
           }
          ],
          "scatter": [
           {
            "fillpattern": {
             "fillmode": "overlay",
             "size": 10,
             "solidity": 0.2
            },
            "type": "scatter"
           }
          ],
          "scatter3d": [
           {
            "line": {
             "colorbar": {
              "outlinewidth": 0,
              "ticks": ""
             }
            },
            "marker": {
             "colorbar": {
              "outlinewidth": 0,
              "ticks": ""
             }
            },
            "type": "scatter3d"
           }
          ],
          "scattercarpet": [
           {
            "marker": {
             "colorbar": {
              "outlinewidth": 0,
              "ticks": ""
             }
            },
            "type": "scattercarpet"
           }
          ],
          "scattergeo": [
           {
            "marker": {
             "colorbar": {
              "outlinewidth": 0,
              "ticks": ""
             }
            },
            "type": "scattergeo"
           }
          ],
          "scattergl": [
           {
            "marker": {
             "colorbar": {
              "outlinewidth": 0,
              "ticks": ""
             }
            },
            "type": "scattergl"
           }
          ],
          "scattermapbox": [
           {
            "marker": {
             "colorbar": {
              "outlinewidth": 0,
              "ticks": ""
             }
            },
            "type": "scattermapbox"
           }
          ],
          "scatterpolar": [
           {
            "marker": {
             "colorbar": {
              "outlinewidth": 0,
              "ticks": ""
             }
            },
            "type": "scatterpolar"
           }
          ],
          "scatterpolargl": [
           {
            "marker": {
             "colorbar": {
              "outlinewidth": 0,
              "ticks": ""
             }
            },
            "type": "scatterpolargl"
           }
          ],
          "scatterternary": [
           {
            "marker": {
             "colorbar": {
              "outlinewidth": 0,
              "ticks": ""
             }
            },
            "type": "scatterternary"
           }
          ],
          "surface": [
           {
            "colorbar": {
             "outlinewidth": 0,
             "ticks": ""
            },
            "colorscale": [
             [
              0,
              "#0d0887"
             ],
             [
              0.1111111111111111,
              "#46039f"
             ],
             [
              0.2222222222222222,
              "#7201a8"
             ],
             [
              0.3333333333333333,
              "#9c179e"
             ],
             [
              0.4444444444444444,
              "#bd3786"
             ],
             [
              0.5555555555555556,
              "#d8576b"
             ],
             [
              0.6666666666666666,
              "#ed7953"
             ],
             [
              0.7777777777777778,
              "#fb9f3a"
             ],
             [
              0.8888888888888888,
              "#fdca26"
             ],
             [
              1,
              "#f0f921"
             ]
            ],
            "type": "surface"
           }
          ],
          "table": [
           {
            "cells": {
             "fill": {
              "color": "#EBF0F8"
             },
             "line": {
              "color": "white"
             }
            },
            "header": {
             "fill": {
              "color": "#C8D4E3"
             },
             "line": {
              "color": "white"
             }
            },
            "type": "table"
           }
          ]
         },
         "layout": {
          "annotationdefaults": {
           "arrowcolor": "#2a3f5f",
           "arrowhead": 0,
           "arrowwidth": 1
          },
          "autotypenumbers": "strict",
          "coloraxis": {
           "colorbar": {
            "outlinewidth": 0,
            "ticks": ""
           }
          },
          "colorscale": {
           "diverging": [
            [
             0,
             "#8e0152"
            ],
            [
             0.1,
             "#c51b7d"
            ],
            [
             0.2,
             "#de77ae"
            ],
            [
             0.3,
             "#f1b6da"
            ],
            [
             0.4,
             "#fde0ef"
            ],
            [
             0.5,
             "#f7f7f7"
            ],
            [
             0.6,
             "#e6f5d0"
            ],
            [
             0.7,
             "#b8e186"
            ],
            [
             0.8,
             "#7fbc41"
            ],
            [
             0.9,
             "#4d9221"
            ],
            [
             1,
             "#276419"
            ]
           ],
           "sequential": [
            [
             0,
             "#0d0887"
            ],
            [
             0.1111111111111111,
             "#46039f"
            ],
            [
             0.2222222222222222,
             "#7201a8"
            ],
            [
             0.3333333333333333,
             "#9c179e"
            ],
            [
             0.4444444444444444,
             "#bd3786"
            ],
            [
             0.5555555555555556,
             "#d8576b"
            ],
            [
             0.6666666666666666,
             "#ed7953"
            ],
            [
             0.7777777777777778,
             "#fb9f3a"
            ],
            [
             0.8888888888888888,
             "#fdca26"
            ],
            [
             1,
             "#f0f921"
            ]
           ],
           "sequentialminus": [
            [
             0,
             "#0d0887"
            ],
            [
             0.1111111111111111,
             "#46039f"
            ],
            [
             0.2222222222222222,
             "#7201a8"
            ],
            [
             0.3333333333333333,
             "#9c179e"
            ],
            [
             0.4444444444444444,
             "#bd3786"
            ],
            [
             0.5555555555555556,
             "#d8576b"
            ],
            [
             0.6666666666666666,
             "#ed7953"
            ],
            [
             0.7777777777777778,
             "#fb9f3a"
            ],
            [
             0.8888888888888888,
             "#fdca26"
            ],
            [
             1,
             "#f0f921"
            ]
           ]
          },
          "colorway": [
           "#636efa",
           "#EF553B",
           "#00cc96",
           "#ab63fa",
           "#FFA15A",
           "#19d3f3",
           "#FF6692",
           "#B6E880",
           "#FF97FF",
           "#FECB52"
          ],
          "font": {
           "color": "#2a3f5f"
          },
          "geo": {
           "bgcolor": "white",
           "lakecolor": "white",
           "landcolor": "#E5ECF6",
           "showlakes": true,
           "showland": true,
           "subunitcolor": "white"
          },
          "hoverlabel": {
           "align": "left"
          },
          "hovermode": "closest",
          "mapbox": {
           "style": "light"
          },
          "paper_bgcolor": "white",
          "plot_bgcolor": "#E5ECF6",
          "polar": {
           "angularaxis": {
            "gridcolor": "white",
            "linecolor": "white",
            "ticks": ""
           },
           "bgcolor": "#E5ECF6",
           "radialaxis": {
            "gridcolor": "white",
            "linecolor": "white",
            "ticks": ""
           }
          },
          "scene": {
           "xaxis": {
            "backgroundcolor": "#E5ECF6",
            "gridcolor": "white",
            "gridwidth": 2,
            "linecolor": "white",
            "showbackground": true,
            "ticks": "",
            "zerolinecolor": "white"
           },
           "yaxis": {
            "backgroundcolor": "#E5ECF6",
            "gridcolor": "white",
            "gridwidth": 2,
            "linecolor": "white",
            "showbackground": true,
            "ticks": "",
            "zerolinecolor": "white"
           },
           "zaxis": {
            "backgroundcolor": "#E5ECF6",
            "gridcolor": "white",
            "gridwidth": 2,
            "linecolor": "white",
            "showbackground": true,
            "ticks": "",
            "zerolinecolor": "white"
           }
          },
          "shapedefaults": {
           "line": {
            "color": "#2a3f5f"
           }
          },
          "ternary": {
           "aaxis": {
            "gridcolor": "white",
            "linecolor": "white",
            "ticks": ""
           },
           "baxis": {
            "gridcolor": "white",
            "linecolor": "white",
            "ticks": ""
           },
           "bgcolor": "#E5ECF6",
           "caxis": {
            "gridcolor": "white",
            "linecolor": "white",
            "ticks": ""
           }
          },
          "title": {
           "x": 0.05
          },
          "xaxis": {
           "automargin": true,
           "gridcolor": "white",
           "linecolor": "white",
           "ticks": "",
           "title": {
            "standoff": 15
           },
           "zerolinecolor": "white",
           "zerolinewidth": 2
          },
          "yaxis": {
           "automargin": true,
           "gridcolor": "white",
           "linecolor": "white",
           "ticks": "",
           "title": {
            "standoff": 15
           },
           "zerolinecolor": "white",
           "zerolinewidth": 2
          }
         }
        },
        "title": {
         "text": "Daily profit<br>Total: 66 EUR<br>Mean: 13 EUR"
        },
        "xaxis": {
         "anchor": "y",
         "domain": [
          0,
          0.94
         ],
         "title": {
          "text": "Hour"
         }
        },
        "yaxis": {
         "anchor": "x",
         "domain": [
          0,
          1
         ],
         "title": {
          "text": "Price (EUR/MWh)"
         }
        },
        "yaxis2": {
         "anchor": "x",
         "overlaying": "y",
         "side": "right",
         "title": {
          "text": "Daily profit (EUR)"
         }
        }
       }
      }
     },
     "metadata": {},
     "output_type": "display_data"
    }
   ],
   "source": [
    "display_profit(df_optim)"
   ]
  }
 ],
 "metadata": {
  "kernelspec": {
   "display_name": "Python 3",
   "language": "python",
   "name": "python3"
  },
  "language_info": {
   "codemirror_mode": {
    "name": "ipython",
    "version": 3
   },
   "file_extension": ".py",
   "mimetype": "text/x-python",
   "name": "python",
   "nbconvert_exporter": "python",
   "pygments_lexer": "ipython3",
   "version": "3.10.10"
  },
  "orig_nbformat": 4,
  "vscode": {
   "interpreter": {
    "hash": "0bdfae08e3bf9ffe83b7b25a755cae125f279ebcd910909ee363280db2866d0d"
   }
  }
 },
 "nbformat": 4,
 "nbformat_minor": 2
}
